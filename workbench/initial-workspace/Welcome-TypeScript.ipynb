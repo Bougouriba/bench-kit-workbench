{
 "cells": [
  {
   "cell_type": "markdown",
   "metadata": {},
   "source": [
    "# KISIA TypeScript\n",
    "\n",
    "This is the beginning of a tutorial\n"
   ]
  },
  {
   "cell_type": "code",
   "execution_count": 1,
   "metadata": {},
   "outputs": [
    {
     "name": "stdout",
     "output_type": "stream",
     "text": [
      "X is set in the startup script, the value should be 4, x= 4\n"
     ]
    }
   ],
   "source": [
    "console.log(\"X is set in the startup script, the value should be 4, x=\",x)"
   ]
  },
  {
   "cell_type": "code",
   "execution_count": null,
   "metadata": {},
   "outputs": [],
   "source": []
  }
 ],
 "metadata": {
  "kernelspec": {
   "display_name": "KISIA-TS",
   "language": "typescript",
   "name": "kisia-ts"
  },
  "language_info": {
   "file_extension": ".ts",
   "mimetype": "application/x-typescript",
   "name": "typescript",
   "version": "3.3.4000"
  }
 },
 "nbformat": 4,
 "nbformat_minor": 2
}
