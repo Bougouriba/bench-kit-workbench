{
 "cells": [
  {
   "cell_type": "markdown",
   "metadata": {},
   "source": [
    "# KISIA Command Line\n"
   ]
  },
  {
   "cell_type": "code",
   "execution_count": 1,
   "metadata": {},
   "outputs": [
    {
     "data": {
      "text/plain": [
       "Usage: cli [OPTIONS] COMMAND [ARGS]...\n",
       "\n",
       "  CLI utilities for interacting with the identity-tech ecosystem.\n",
       "\n",
       "Options:\n",
       "  --config-path DIRECTORY  Changes the configuration environment.\n",
       "  -v, --verbose            Enables verbose mode.\n",
       "  --help                   Show this message and exit.\n",
       "\n",
       "Commands:\n",
       "  config     Manage the toolkit configuration settings.\n",
       "  docptr     Manage DocPtrs, which describe a document which can be\n",
       "             referenced...\n",
       "  eco        Perform ecosystem level tasks.\n",
       "  github     Pull information from GitHub API.\n",
       "  gitworm    Manage GitWorm checkout.\n",
       "  google     Read/Write Google Assets.\n",
       "  help       prints help info\n",
       "  local      Translate between workspace resident JSON data models.\n",
       "  logs       View, export and clear semantic log data.\n",
       "  nlp        Apply NLP logic.\n",
       "  tool       CLI utilities for interacting with the identity-tech ecosystem.\n",
       "  web        Work with non-API based web sources.\n",
       "  workspace  Manipulate the workspace\n",
       "  xlate      Translate between workspace resident JSON data models.\n",
       "None"
      ]
     },
     "metadata": {},
     "output_type": "display_data",
     "source": "kisia"
    }
   ],
   "source": [
    "help"
   ]
  },
  {
   "cell_type": "markdown",
   "metadata": {},
   "source": [
    "## This is another example\n",
    "\n",
    "Here is some text"
   ]
  }
 ],
 "metadata": {
  "kernelspec": {
   "display_name": "KISIA Shell",
   "language": "custom",
   "name": "kisia-cli"
  },
  "language_info": {
   "codemirror_mode": "shell",
   "file_extension": ".sh",
   "mimetype": "text/x-sh",
   "name": "bash"
  }
 },
 "nbformat": 4,
 "nbformat_minor": 2
}
