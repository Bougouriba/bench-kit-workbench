{
 "cells": [
  {
   "cell_type": "markdown",
   "metadata": {},
   "source": [
    "# Python\n",
    "\n",
    "Explore an interactive Python system"
   ]
  },
  {
   "cell_type": "code",
   "execution_count": 6,
   "metadata": {},
   "outputs": [
    {
     "name": "stdout",
     "output_type": "stream",
     "text": [
      "Hello\n"
     ]
    }
   ],
   "source": [
    "import os\n",
    "print(\"Hello\")"
   ]
  },
  {
   "cell_type": "markdown",
   "metadata": {},
   "source": [
    "## This is another example\n",
    "\n",
    "Here is some text"
   ]
  },
  {
   "cell_type": "code",
   "execution_count": 8,
   "metadata": {},
   "outputs": [
    {
     "name": "stdout",
     "output_type": "stream",
     "text": [
      "environ({'PYTHONPATH': '/home/ewelton/Repos/contractors/kisia/jupyter/node_modules/electron/dist/resources/venv/lib/python3.7/site-packages:/home/ewelton/Repos/contractors/kisia/jupyter/node_modules/electron/dist/resources/venv/lib/python3.6/site-packages', 'PATH': '/home/ewelton/Repos/contractors/kisia/jupyter/node_modules/electron/dist/resources/venv/bin:/home/ewelton/Repos/contractors/kisia/jupyter/venv/bin:/home/ewelton/anaconda3/bin:./node_modules/.bin:/home/ewelton/bin:/home/ewelton/.nvm/versions/node/v11.6.0/bin:/home/ewelton/bin:/usr/local/sbin:/usr/local/bin:/usr/sbin:/usr/bin:/sbin:/bin:/usr/games:/usr/local/games:/snap/bin', 'JUPYTER_CONFIG_DIR': '/home/ewelton/Documents/kisia/config', 'JUPYTER_DATA_DIR': '/home/ewelton/Documents/kisia/data', 'JUPYTER_RUNTIME_DIR': '/home/ewelton/Documents/kisia/runtime', 'JUPYTERLAB_WORKSPACES_DIR': '/tmp/jupyter1/workspaces', 'JPY_PARENT_PID': '18171', 'TERM': 'xterm-color', 'CLICOLOR': '1', 'PAGER': 'cat', 'GIT_PAGER': 'cat', 'MPLBACKEND': 'module://ipykernel.pylab.backend_inline'})\n"
     ]
    }
   ],
   "source": [
    "print(os.environ)"
   ]
  }
 ],
 "metadata": {
  "kernelspec": {
   "display_name": "Python 3",
   "language": "python",
   "name": "python3"
  },
  "language_info": {
   "codemirror_mode": {
    "name": "ipython",
    "version": 3
   },
   "file_extension": ".py",
   "mimetype": "text/x-python",
   "name": "python",
   "nbconvert_exporter": "python",
   "pygments_lexer": "ipython3",
   "version": "3.6.7"
  }
 },
 "nbformat": 4,
 "nbformat_minor": 2
}
