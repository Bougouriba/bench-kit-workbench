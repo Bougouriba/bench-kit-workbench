{
 "cells": [
  {
   "cell_type": "markdown",
   "metadata": {},
   "source": [
    "# Introduction\n",
    "\n",
    "Get started right away\n",
    "- [Python](Welcome-Python.ipynb)\n",
    "- [JavaScript](Welcome-JavaScript.ipynb)\n",
    "- [TypeScript](Welcome-TypeScript.ipynb)\n",
    "- [RWOT JS](Welcome-RWoTJS.ipynb)\n",
    "\n",
    "Explore the KISIA Command Line Utility\n",
    "- [KISIA CLI](Introduction-KISIA.ipynb)\n"
   ]
  },
  {
   "cell_type": "code",
   "execution_count": 4,
   "metadata": {},
   "outputs": [
    {
     "name": "stdout",
     "output_type": "stream",
     "text": [
      "Executing in /home/ewelton/Documents/kisia/jupyterlab-cwd\n"
     ]
    },
    {
     "data": {
      "text/html": [
       "<div>\n",
       "<style scoped>\n",
       "    .dataframe tbody tr th:only-of-type {\n",
       "        vertical-align: middle;\n",
       "    }\n",
       "\n",
       "    .dataframe tbody tr th {\n",
       "        vertical-align: top;\n",
       "    }\n",
       "\n",
       "    .dataframe thead th {\n",
       "        text-align: right;\n",
       "    }\n",
       "</style>\n",
       "<table border=\"1\" class=\"dataframe\">\n",
       "  <thead>\n",
       "    <tr style=\"text-align: right;\">\n",
       "      <th></th>\n",
       "      <th>Property</th>\n",
       "      <th>Values</th>\n",
       "    </tr>\n",
       "  </thead>\n",
       "  <tbody>\n",
       "    <tr>\n",
       "      <th>0</th>\n",
       "      <td>CLICOLOR</td>\n",
       "      <td>1</td>\n",
       "    </tr>\n",
       "    <tr>\n",
       "      <th>1</th>\n",
       "      <td>GIT_PAGER</td>\n",
       "      <td>cat</td>\n",
       "    </tr>\n",
       "    <tr>\n",
       "      <th>2</th>\n",
       "      <td>JPY_PARENT_PID</td>\n",
       "      <td>20694</td>\n",
       "    </tr>\n",
       "    <tr>\n",
       "      <th>3</th>\n",
       "      <td>JUPYTERLAB_WORKSPACES_DIR</td>\n",
       "      <td>/tmp/jupyter1/workspaces</td>\n",
       "    </tr>\n",
       "    <tr>\n",
       "      <th>4</th>\n",
       "      <td>JUPYTER_CONFIG_DIR</td>\n",
       "      <td>/home/ewelton/Documents/kisia/config</td>\n",
       "    </tr>\n",
       "    <tr>\n",
       "      <th>5</th>\n",
       "      <td>JUPYTER_DATA_DIR</td>\n",
       "      <td>/home/ewelton/Documents/kisia/data</td>\n",
       "    </tr>\n",
       "    <tr>\n",
       "      <th>6</th>\n",
       "      <td>JUPYTER_RUNTIME_DIR</td>\n",
       "      <td>/home/ewelton/Documents/kisia/runtime</td>\n",
       "    </tr>\n",
       "    <tr>\n",
       "      <th>7</th>\n",
       "      <td>MPLBACKEND</td>\n",
       "      <td>module://ipykernel.pylab.backend_inline</td>\n",
       "    </tr>\n",
       "    <tr>\n",
       "      <th>8</th>\n",
       "      <td>PAGER</td>\n",
       "      <td>cat</td>\n",
       "    </tr>\n",
       "    <tr>\n",
       "      <th>9</th>\n",
       "      <td>PATH</td>\n",
       "      <td>/home/ewelton/Repos/contractors/kisia/jupyter/...</td>\n",
       "    </tr>\n",
       "    <tr>\n",
       "      <th>10</th>\n",
       "      <td>PYTHONPATH</td>\n",
       "      <td>/home/ewelton/Repos/contractors/kisia/jupyter/...</td>\n",
       "    </tr>\n",
       "    <tr>\n",
       "      <th>11</th>\n",
       "      <td>TERM</td>\n",
       "      <td>xterm-color</td>\n",
       "    </tr>\n",
       "  </tbody>\n",
       "</table>\n",
       "</div>"
      ],
      "text/plain": [
       "                     Property  \\\n",
       "0                    CLICOLOR   \n",
       "1                   GIT_PAGER   \n",
       "2              JPY_PARENT_PID   \n",
       "3   JUPYTERLAB_WORKSPACES_DIR   \n",
       "4          JUPYTER_CONFIG_DIR   \n",
       "5            JUPYTER_DATA_DIR   \n",
       "6         JUPYTER_RUNTIME_DIR   \n",
       "7                  MPLBACKEND   \n",
       "8                       PAGER   \n",
       "9                        PATH   \n",
       "10                 PYTHONPATH   \n",
       "11                       TERM   \n",
       "\n",
       "                                               Values  \n",
       "0                                                   1  \n",
       "1                                                 cat  \n",
       "2                                               20694  \n",
       "3                            /tmp/jupyter1/workspaces  \n",
       "4                /home/ewelton/Documents/kisia/config  \n",
       "5                  /home/ewelton/Documents/kisia/data  \n",
       "6               /home/ewelton/Documents/kisia/runtime  \n",
       "7             module://ipykernel.pylab.backend_inline  \n",
       "8                                                 cat  \n",
       "9   /home/ewelton/Repos/contractors/kisia/jupyter/...  \n",
       "10  /home/ewelton/Repos/contractors/kisia/jupyter/...  \n",
       "11                                        xterm-color  "
      ]
     },
     "execution_count": 4,
     "metadata": {},
     "output_type": "execute_result"
    }
   ],
   "source": [
    "import os\n",
    "props=list(os.environ.keys())\n",
    "props.sort()\n",
    "values=list([os.environ[key] for key in props])\n",
    "\n",
    "print(\"Executing in\",os.getcwd())\n",
    "\n",
    "import pandas as pd\n",
    "pd.DataFrame(dict({\n",
    "    \"Property\":props,\n",
    "    \"Values\":values\n",
    "}))"
   ]
  },
  {
   "cell_type": "markdown",
   "metadata": {},
   "source": [
    "## Try your own code\n",
    "\n"
   ]
  },
  {
   "cell_type": "code",
   "execution_count": null,
   "metadata": {},
   "outputs": [],
   "source": [
    "# your code here"
   ]
  }
 ],
 "metadata": {
  "kernelspec": {
   "display_name": "Python 3",
   "language": "python",
   "name": "python3"
  },
  "language_info": {
   "codemirror_mode": {
    "name": "ipython",
    "version": 3
   },
   "file_extension": ".py",
   "mimetype": "text/x-python",
   "name": "python",
   "nbconvert_exporter": "python",
   "pygments_lexer": "ipython3",
   "version": "3.6.7"
  }
 },
 "nbformat": 4,
 "nbformat_minor": 2
}
