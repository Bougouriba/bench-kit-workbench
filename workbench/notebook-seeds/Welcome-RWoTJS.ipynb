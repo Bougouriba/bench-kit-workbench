{
 "cells": [
  {
   "cell_type": "markdown",
   "metadata": {},
   "source": [
    "# RWoT Shell\n",
    "\n",
    "Has RWoT stuff embedded"
   ]
  },
  {
   "cell_type": "code",
   "execution_count": 1,
   "metadata": {},
   "outputs": [
    {
     "name": "stdout",
     "output_type": "stream",
     "text": [
      "4\n"
     ]
    }
   ],
   "source": [
    "console.log(x)"
   ]
  }
 ],
 "metadata": {
  "kernelspec": {
   "display_name": "RWoT Shell",
   "language": "javascript",
   "name": "rwot-js"
  },
  "language_info": {
   "file_extension": ".js",
   "mimetype": "application/javascript",
   "name": "javascript",
   "version": "11.6.0"
  }
 },
 "nbformat": 4,
 "nbformat_minor": 2
}
