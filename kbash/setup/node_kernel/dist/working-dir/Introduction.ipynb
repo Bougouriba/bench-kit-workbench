{
  "cells": [
    {
      "cell_type": "markdown",
      "source": [
        "# Identity.Com DSR Library"
      ],
      "metadata": {}
    },
    {
      "cell_type": "code",
      "source": [
        "console.log(DSR)"
      ],
      "outputs": [
      ],
      "execution_count": 1,
      "metadata": {
        "collapsed": false,
        "outputHidden": false,
        "inputHidden": false
      }
    }
  ],
  "metadata": {
    "kernel_info": {
      "name": "dsr_kernel"
    },
    "language_info": {
      "name": "typescript",
      "version": "3.4.4",
      "mimetype": "application/x-typescript",
      "file_extension": ".ts"
    },
    "kernelspec": {
      "name": "dsr_kernel",
      "language": "typescript",
      "display_name": "Dynamic Scoped Request Shell"
    },
    "nteract": {
      "version": "1.0.3"
    }
  },
  "nbformat": 4,
  "nbformat_minor": 0
}
